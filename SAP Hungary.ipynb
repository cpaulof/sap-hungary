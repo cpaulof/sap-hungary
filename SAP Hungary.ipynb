{
 "cells": [
  {
   "cell_type": "code",
   "execution_count": null,
   "id": "6238a693",
   "metadata": {},
   "outputs": [],
   "source": [
    "#p1\n",
    "def is_racional(a,b,c):\n",
    "    d = (b**2 - 4*a*c)**0.5\n",
    "    if d%1 > 0:\n",
    "        return 'N'\n",
    "    return 'Y'\n",
    "\n",
    "while True:\n",
    "    try:\n",
    "        i = input()\n",
    "        a,b,c = (int(k) for k in i.split(' '))\n",
    "        print(is_racional(a,b,c))\n",
    "    except:\n",
    "        break\n"
   ]
  },
  {
   "cell_type": "code",
   "execution_count": null,
   "id": "d608bebd",
   "metadata": {},
   "outputs": [],
   "source": [
    "#p2\n",
    "def solve(h,m,s):\n",
    "    step = 1/h\n",
    "    prints = [\"0 0 0\"]\n",
    "    for initial in range(1, h):\n",
    "        k = initial / h\n",
    "        if (k*m)%1 == 0 and (k*s)%1 == 0:\n",
    "            prints.append(f\"{int(initial)} {int(k*m)} {int(k*s)}\")\n",
    "\n",
    "    print(len(prints))\n",
    "    for i in prints:\n",
    "        print(i)\n",
    "\n",
    "while True:\n",
    "    try:\n",
    "        i = input()\n",
    "        h,m,s = (int(k) for k in i.split(' '))\n",
    "        solve(h,m,s)\n",
    "    except:\n",
    "        break\n",
    "\n",
    "            "
   ]
  },
  {
   "cell_type": "code",
   "execution_count": null,
   "id": "92874195",
   "metadata": {},
   "outputs": [],
   "source": [
    "#p3\n",
    "def solve(p):\n",
    "    s = []\n",
    "    k = 0\n",
    "    new_p = ''\n",
    "    while k<len(p):\n",
    "        if not k%2:\n",
    "            s.append(p[k])\n",
    "        else:\n",
    "            new_p+=p[k]\n",
    "        k+=1\n",
    "    new_p+=''.join(s[::-1])\n",
    "    print(new_p)\n",
    "        \n",
    "while True:\n",
    "    try:\n",
    "        p = input()\n",
    "        solve(p)\n",
    "    except:\n",
    "        break"
   ]
  },
  {
   "cell_type": "code",
   "execution_count": null,
   "id": "97670a3f",
   "metadata": {},
   "outputs": [],
   "source": []
  }
 ],
 "metadata": {
  "kernelspec": {
   "display_name": "Python 3 (ipykernel)",
   "language": "python",
   "name": "python3"
  },
  "language_info": {
   "codemirror_mode": {
    "name": "ipython",
    "version": 3
   },
   "file_extension": ".py",
   "mimetype": "text/x-python",
   "name": "python",
   "nbconvert_exporter": "python",
   "pygments_lexer": "ipython3",
   "version": "3.9.10"
  }
 },
 "nbformat": 4,
 "nbformat_minor": 5
}
